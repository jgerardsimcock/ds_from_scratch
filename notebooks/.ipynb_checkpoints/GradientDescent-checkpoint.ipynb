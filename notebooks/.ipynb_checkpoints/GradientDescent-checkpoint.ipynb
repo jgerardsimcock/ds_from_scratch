{
 "metadata": {
  "name": "",
  "signature": "sha256:82ede41340bd13d7723986350087fd9c396ca5cb913e51f9c01dc7b4a5b219c2"
 },
 "nbformat": 3,
 "nbformat_minor": 0,
 "worksheets": [
  {
   "cells": [
    {
     "cell_type": "code",
     "collapsed": false,
     "input": [
      "import numpy\n",
      "import matplotlib.pyplot as plt\n",
      "%matplotlib inline\n",
      "import seaborn\n",
      "from __future__ import division\n",
      "from functools import partial\n",
      "from collections import Counter\n",
      "from linear_algebra import distance, vector_subtract, scalar_multiply\n",
      "import random"
     ],
     "language": "python",
     "metadata": {},
     "outputs": [],
     "prompt_number": 46
    },
    {
     "cell_type": "code",
     "collapsed": false,
     "input": [
      "def sum_of_squares(v):\n",
      "    \"\"\"computes the sum of squared elements in v\"\"\"\n",
      "    return sum(v_i ** 2 for v_i in v)\n",
      "\n",
      "def difference_quotient(f,x,h):\n",
      "    return (f(x+h) - f(x)) / h\n",
      "\n",
      "def square(x):\n",
      "    return x*x\n",
      "\n",
      "def derivative(x):\n",
      "    return 2*x\n",
      "\n",
      "derivative_estimate = partial(difference_quotient, square, h=0.00001)\n",
      "\n"
     ],
     "language": "python",
     "metadata": {},
     "outputs": [
      {
       "metadata": {},
       "output_type": "pyout",
       "prompt_number": 15,
       "text": [
        "<functools.partial at 0x11321b3c0>"
       ]
      }
     ],
     "prompt_number": 15
    },
    {
     "cell_type": "code",
     "collapsed": false,
     "input": [
      "x = range(-10,10)\n",
      "y_1 = map(derivative, x)\n",
      "y_2 = map(derivative_estimate, x)\n",
      "plt.title(\"Actual Derivatives vs. Estimate\")\n",
      "plt.plot(x, y_1, '-', label='Actual')\n",
      "plt.plot(x, y_2, 'o', label='Estimate')\n",
      "plt.legend(loc=9)\n",
      "plt.show()\n",
      "\n"
     ],
     "language": "python",
     "metadata": {},
     "outputs": [
      {
       "metadata": {},
       "output_type": "display_data",
       "png": "[encoded data removed]",
       "text": [
        "<matplotlib.figure.Figure at 0x113332fd0>"
       ]
      }
     ],
     "prompt_number": 36
    },
    {
     "cell_type": "code",
     "collapsed": false,
     "input": [
      "def partial_difference_quotient(f,v,i,h):\n",
      "    \"\"\"compute the ith partial difference quotient of f at v\"\"\"\n",
      "    w = [v_j + (h if j == i else 0)\n",
      "         for j ,v_j in enumerate(v)]\n",
      "    \n",
      "    return (f(w) - f(v)) / h\n",
      "\n",
      "\n",
      "def estimate_gradient(f, v, h=0.00001):\n",
      "    return [partial_difference_quotient(f,v,i,h)\n",
      "            for i, _ in enumerate(v)]\n",
      "\n",
      "\n",
      "def step(v, direction, step_size):\n",
      "    \"\"\"move step_size in direction from v\"\"\"\n",
      "    return [v_i + step_size * direction_i\n",
      "            for v_i, direction_i in zip(v, direction)]\n",
      "\n",
      "\n",
      "def sum_of_squares_gradient(v):\n",
      "    return [2 * v_i for v_i in v]\n",
      "\n",
      "#pick random starting point to begin gradient descent\n",
      "v = [random.randint(-10,10) for i in range(3)]\n",
      "\n",
      "tolerance = 0.0000001\n",
      "\n",
      "while True:\n",
      "    gradient = sum_of_squares_gradient(v) #compute gradient at v\n",
      "    next_v = step(v, gradient, -0.01)  #take negative gradient step\n",
      "    if distance(next_v, v) < tolerance: # stop if converging\n",
      "        break\n",
      "    v = next_v                          #Continue if you have not converged"
     ],
     "language": "python",
     "metadata": {},
     "outputs": [],
     "prompt_number": 47
    },
    {
     "cell_type": "code",
     "collapsed": false,
     "input": [
      "step_sizes = [100, 10, 1, 0.1, 0.01, 0.001, 0.001, 0.0001, 0.00001]\n",
      "\n",
      "def safe(f):\n",
      "    \"\"\"Return a new function that is the same as f, \n",
      "    except that it outputs infinity whenever f produces \n",
      "    an error\"\"\"\n",
      "    def safe_f(*args, **kwargs):\n",
      "        try:\n",
      "            return f(*args, **kwargs)\n",
      "        except:\n",
      "            return float('inf')\n",
      "    return safe_f\n",
      "\n",
      "def minimize_batch(target_fn, gradient_fn, theta_0, tolerance=0.000001):\n",
      "    \"\"\"use gradient descent to find theta that minimizes target function\"\"\"\n",
      "    \n",
      "    theta = theta_0\n",
      "    target_fn = safe(target_fn)\n",
      "    value = target_fn(theta)\n",
      "    \n",
      "    while True:\n",
      "        gradient = gradient_fn(theta)\n",
      "        next_thetas = [step(theta, gradient, -step_size)\n",
      "                       for step_size in step_sizes]\n",
      "        \n",
      "        next_theta = min(next_thetas, key=target_fn)\n",
      "        next_value = target_fn(next_theta)\n",
      "        \n",
      "        if abs(value - next_value) < tolerance:\n",
      "            return theta\n",
      "        else: \n",
      "            theta, value, = next_theta, next_value\n",
      "        "
     ],
     "language": "python",
     "metadata": {},
     "outputs": [],
     "prompt_number": 1
    },
    {
     "cell_type": "code",
     "collapsed": false,
     "input": [
      "#We sometimes want to maximize a function. We can do this by taking the negative of the gradient descent\n",
      "\n",
      "def negate(f):\n",
      "    \"\"\"return a function that for any input x returns -f(x)\"\"\"\n",
      "    return lambda *args, **kwargs: -f(*args, **kwargs)\n",
      "\n",
      "def negate_all(f):\n",
      "    \"\"\"the same when f returns a list of numbers\"\"\"\n",
      "    return lambda *args, **kwargs: [-y for y in f(*args, **kwargs)]\n",
      "\n",
      "\n",
      "def maximize_batch(target_fn, gradient_fn, theta_0, tolerance=0.000001):\n",
      "    return minimize_batch(negate(target_fn),\n",
      "                          negate_all(gradient_fn),\n",
      "                          theta_0,\n",
      "                          tolerance)"
     ],
     "language": "python",
     "metadata": {},
     "outputs": [],
     "prompt_number": 2
    },
    {
     "cell_type": "code",
     "collapsed": false,
     "input": [
      "def in_random_order(data):\n",
      "    \"\"\"generator that returns the elements of data in random order\"\"\"\n",
      "    indexes = [i for i, _ in enumerate(data)]\n",
      "    random.shuffle(indexes)\n",
      "    \n",
      "    for i in indexes:\n",
      "        yield data[i]\n",
      "        \n",
      "def minimize_stochastic(target_fn, gradient_fn, x,y, theta_0, alpha_0=0.01):\n",
      "    \n",
      "    data = zip(x,y)\n",
      "    theta = theta_0\n",
      "    alpha = alpha_0\n",
      "    min_theta, min_value = None, float(\"inf\")\n",
      "    iterations_with_no_improvement = 0\n",
      "    \n",
      "    while iterations_with_no_improvement < 100:\n",
      "        value = sum( target_fn(x_i, y_i, theta) for x_i, y_i in data)\n",
      "        \n",
      "        if value < min_value:\n",
      "            min_theta, min_value = theta, value\n",
      "            iterations_with_no_improvement = 0\n",
      "            alpha = alpha_0\n",
      "            \n",
      "        else: \n",
      "            \n",
      "            iterations_with_no_improvement +=1\n",
      "            alpha *= 0.9\n",
      "        \n",
      "        for x_i, y_i in in_random_order(data):\n",
      "            gradient_i = gradient_fn(x_i, y-i, theta)\n",
      "            theta = vector_subtract(theta, scalar_multiply(alpha, gradient_i))\n",
      "            \n",
      "    return min_theta\n",
      "            "
     ],
     "language": "python",
     "metadata": {},
     "outputs": [],
     "prompt_number": 6
    },
    {
     "cell_type": "code",
     "collapsed": false,
     "input": [
      "def maximize_stochastic(target_fn, gradient_fn, x, y, theta, alpha_0=0.01):\n",
      "    return minimize_stochastic(negate(target_fn),\n",
      "                               negate_all(gradient_fn),\n",
      "                               x, y, theta_0, alpha_0)"
     ],
     "language": "python",
     "metadata": {},
     "outputs": []
    }
   ],
   "metadata": {}
  }
 ]
}