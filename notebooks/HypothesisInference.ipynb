{
 "metadata": {
  "name": "",
  "signature": "sha256:a31abf97cbf2622aaf88864374cb3c142dc584f443ed472d386669dea3095a18"
 },
 "nbformat": 3,
 "nbformat_minor": 0,
 "worksheets": [
  {
   "cells": [
    {
     "cell_type": "code",
     "collapsed": false,
     "input": [
      "import numpy\n",
      "import random\n",
      "import math\n",
      "from __future__ import division\n",
      "import matplotlib.pyplot as plt\n",
      "%matplotlib inline\n",
      "import seaborn as sns\n",
      "from collections import Counter"
     ],
     "language": "python",
     "metadata": {},
     "outputs": [],
     "prompt_number": 1
    },
    {
     "cell_type": "code",
     "collapsed": false,
     "input": [
      "def normal_cdf(x, mu=0, sigma=1):\n",
      "    return (1 + math.erf((x-mu) / math.sqrt(2) / sigma)) / 2\n",
      "\n",
      "def normal_approximation_to_binomial(n, p):\n",
      "    \"\"\"finds mu and sigma corresponding to Binomail(n,p)\"\"\"\n",
      "    \n",
      "    mu = p * n\n",
      "    sigma = math.sqrt(p * (1 - p) * n)\n",
      "    return mu, sigma\n",
      "\n"
     ],
     "language": "python",
     "metadata": {},
     "outputs": [],
     "prompt_number": 2
    },
    {
     "cell_type": "code",
     "collapsed": false,
     "input": [
      "#normal cdf is the probability the variable is below a threshold\n",
      "normal_probability_below = normal_cdf\n",
      "\n",
      "#if it is not below the threshold it is above\n",
      "def normal_probability_above(lo, mu=0, sigma=1):\n",
      "    return 1 - normal_cdf(lo, mu, sigma)\n",
      "\n",
      "#It is between if it is less than hi and more than lo\n",
      "def normal_probability_between(lo, hi, mu=0, sigma=1):\n",
      "    return normal_cdf(hi, mu, sigma) - normal_cdf(lo, mu, sigma)\n",
      "\n",
      "#it is outside if it is not between\n",
      "def normal_probability_outside(lo, hi, mu=0, sigma=1):\n",
      "    return 1 - normal_probability_between(lo, hi, mu, sigma)\n"
     ],
     "language": "python",
     "metadata": {},
     "outputs": [],
     "prompt_number": 4
    },
    {
     "cell_type": "code",
     "collapsed": false,
     "input": [
      "def inverse_normal_cdf(p, mu=0, sigma=1, tolerance=0.00001):\n",
      "    \"Find approximate inverse using binary search\"\n",
      "    \n",
      "    #if not standard, compute standard and rescale\n",
      "    if mu != 0 or sigma != 1:\n",
      "        return mu + sigma * inverse_normal_cdf(p, tolerance=tolerance)\n",
      "    \n",
      "    low_z, low_p = -10.0, 0            # normal_cdf(-10) is very close to 0\n",
      "    hi_z, hi_p = 10.0, 1               # normal_cdf(10) is very close to 1\n",
      "    while hi_z - low_z > tolerance:\n",
      "        mid_z = (low_z + hi_z) / 2     #consider the midpoint  \n",
      "        mid_p = normal_cdf(mid_z)      #get cdf value at midpoint\n",
      "        if mid_p < p:\n",
      "            #midpoint is too low, search above\n",
      "            low_z, low_p = mid_z, mid_p\n",
      "        elif mid_p > p:\n",
      "            #midpoint is too high, search below\n",
      "            hi_z, hi_p = mid_z, mid_p\n",
      "        else:\n",
      "            break\n",
      "            \n",
      "    return mid_z"
     ],
     "language": "python",
     "metadata": {},
     "outputs": [],
     "prompt_number": 5
    },
    {
     "cell_type": "code",
     "collapsed": false,
     "input": [
      "def normal_upper_bound(probability, mu=0, sigma=1):\n",
      "    \"\"\"returns the z for which P(Z<= z) = probability\"\"\"\n",
      "    return inverse_normal_cdf(probability, mu, sigma)\n",
      "\n",
      "def normal_lower_bound(probability, mu=0,sigma=1):\n",
      "    \"\"\"returns the z for which P(Z >= z) = probability\"\"\"\n",
      "    return inverse_normal_cdf(1 - probability, mu, sigma)\n",
      "\n",
      "def normal_two_sided_bounds(probability, mu=0, sigma=1):\n",
      "    \"\"\"returns the symmetric bounds about the mean \n",
      "    that contain the specified probability\"\"\"\n",
      "    \n",
      "    tail_probability = (1-probability) / 2 \n",
      "    \n",
      "    #upper bound should have tail probability above it\n",
      "    upper_bound = normal_lower_bound(tail_probability, mu, sigma)\n",
      "    \n",
      "    #lower bound should have tail probability below it\n",
      "    lower_bound = normal_upper_bound(tail_probability, mu, sigma)\n",
      "    \n",
      "    return lower_bound, upper_bound\n",
      "\n"
     ],
     "language": "python",
     "metadata": {},
     "outputs": [],
     "prompt_number": 7
    },
    {
     "cell_type": "code",
     "collapsed": false,
     "input": [
      "mu_0, sigma_0 = normal_approximation_to_binomial(1000, 0.5)\n",
      "\n",
      "print mu_0, sigma_0"
     ],
     "language": "python",
     "metadata": {},
     "outputs": [
      {
       "output_type": "stream",
       "stream": "stdout",
       "text": [
        "500.0 15.8113883008\n"
       ]
      }
     ],
     "prompt_number": 13
    },
    {
     "cell_type": "code",
     "collapsed": false,
     "input": [
      "normal_two_sided_bounds(0.95, mu_0, sigma_0)"
     ],
     "language": "python",
     "metadata": {},
     "outputs": [
      {
       "metadata": {},
       "output_type": "pyout",
       "prompt_number": 14,
       "text": [
        "(469.01026640487555, 530.9897335951244)"
       ]
      }
     ],
     "prompt_number": 14
    },
    {
     "cell_type": "code",
     "collapsed": false,
     "input": [
      "# 95% bounds based on assumption is 0.5\n",
      "lo, hi = normal_two_sided_bounds(0.95, mu_0,sigma_0)\n",
      "\n",
      "#actual mu and sigmal based on p = 0.55\n",
      "mu_1, sigma_1 = normal_approximation_to_binomial(1000, 0.55)\n",
      "\n",
      "# a type 2 error means we fail to reject the null hypothesis\n",
      "#this will happen when X falls within our original interval\n",
      "type_2_probability = normal_probability_between(lo, hi, mu_1, sigma_1)\n",
      "power = 1 - type_2_probability\n",
      "print power"
     ],
     "language": "python",
     "metadata": {},
     "outputs": [
      {
       "output_type": "stream",
       "stream": "stdout",
       "text": [
        "0.886548001295\n"
       ]
      }
     ],
     "prompt_number": 17
    },
    {
     "cell_type": "code",
     "collapsed": false,
     "input": [
      "hi = normal_upper_bound(0.95, mu_0, sigma_0)\n",
      "\n",
      "type_2_probability = normal_probability_below(hi, mu_1, sigma_1)\n",
      "power = 1 - type_2_probability\n",
      "print power"
     ],
     "language": "python",
     "metadata": {},
     "outputs": [
      {
       "output_type": "stream",
       "stream": "stdout",
       "text": [
        "0.936379480331\n"
       ]
      }
     ],
     "prompt_number": 19
    },
    {
     "cell_type": "code",
     "collapsed": false,
     "input": [
      "def two_sided_p_value(x, mu=0, sigma=1):\n",
      "    if x >= mu:\n",
      "        #if x is greater than the mean, the tail is greater than x\n",
      "        return 2 * normal_probability_above(x, mu, sigma)\n",
      "    else:\n",
      "        #if x is less than the mean, the tail is what's less than x\n",
      "        return 2 * normal_probability_below(x, mu, sigma)\n",
      "    \n",
      "#lets assume we see 530 heads\n",
      "two_sided_p_value(529.5, mu_0, sigma_0)"
     ],
     "language": "python",
     "metadata": {},
     "outputs": [
      {
       "metadata": {},
       "output_type": "pyout",
       "prompt_number": 21,
       "text": [
        "0.06207721579598857"
       ]
      }
     ],
     "prompt_number": 21
    },
    {
     "cell_type": "code",
     "collapsed": true,
     "input": [
      "extreme_value_count = 0\n",
      "for _ in range(100000):\n",
      "    num_heads = sum(1 if random.random() < 0.5 else 0 #count # of heads\n",
      "                    for _ in range(1000))             #in 1000 flips\n",
      "    \n",
      "    if num_heads >= 530 or num_heads <= 470:\n",
      "        extreme_value_count += 1\n",
      "        \n",
      "print extreme_value_count / 100000"
     ],
     "language": "python",
     "metadata": {},
     "outputs": [
      {
       "output_type": "stream",
       "stream": "stdout",
       "text": [
        "0.06215\n"
       ]
      }
     ],
     "prompt_number": 23
    },
    {
     "cell_type": "code",
     "collapsed": false,
     "input": [
      "two_sided_p_value(531.5, mu_0, sigma_0) # we reject H_0 for this one"
     ],
     "language": "python",
     "metadata": {},
     "outputs": [
      {
       "metadata": {},
       "output_type": "pyout",
       "prompt_number": 24,
       "text": [
        "0.046345287837786575"
       ]
      }
     ],
     "prompt_number": 24
    },
    {
     "cell_type": "code",
     "collapsed": false,
     "input": [
      "upper_p_value = normal_probability_above\n",
      "lower_p_value = normal_probability_below\n",
      "\n",
      "upper_p_value(524.5, mu_0, sigma_0) # do not reject\n",
      "upper_p_value(526.5, mu_0, sigma_0) # reject null"
     ],
     "language": "python",
     "metadata": {},
     "outputs": [
      {
       "metadata": {},
       "output_type": "pyout",
       "prompt_number": 26,
       "text": [
        "0.04686839508859242"
       ]
      }
     ],
     "prompt_number": 26
    },
    {
     "cell_type": "code",
     "collapsed": false,
     "input": [
      "p_hat = 525 / 1000\n",
      "mu = p_hat\n",
      "sigma = math.sqrt(p_hat * (1- p_hat) / 1000)\n",
      "print sigma"
     ],
     "language": "python",
     "metadata": {},
     "outputs": [
      {
       "output_type": "stream",
       "stream": "stdout",
       "text": [
        "0.0157916116974\n"
       ]
      }
     ],
     "prompt_number": 28
    },
    {
     "cell_type": "code",
     "collapsed": false,
     "input": [
      "normal_two_sided_bounds(0.95, mu, sigma)"
     ],
     "language": "python",
     "metadata": {},
     "outputs": [
      {
       "metadata": {},
       "output_type": "pyout",
       "prompt_number": 29,
       "text": [
        "(0.4940490278129096, 0.5559509721870904)"
       ]
      }
     ],
     "prompt_number": 29
    },
    {
     "cell_type": "code",
     "collapsed": false,
     "input": [
      "def run_experiment():\n",
      "    \"\"\"flip a fair coin 1000 times, True = heads, Flase = tails\"\"\"\n",
      "    return [random.random() < 0.5 for _ in range(1000)]\n",
      "\n",
      "def reject_fairness(experiment):\n",
      "    \"\"\"using the 5% significance levels\"\"\"\n",
      "    num_heads = len([flip for flip in experiment if flip])\n",
      "    return num_heads < 469 or num_heads > 531\n",
      "\n",
      "random.seed(0)\n",
      "experiments = [run_experiment() for _ in range(1000)]\n",
      "num_rejections = len([experiment \n",
      "                      for experiment in experiments\n",
      "                      if reject_fairness(experiment)])\n",
      "\n",
      "print num_rejections"
     ],
     "language": "python",
     "metadata": {},
     "outputs": [
      {
       "output_type": "stream",
       "stream": "stdout",
       "text": [
        "46\n"
       ]
      }
     ],
     "prompt_number": 32
    },
    {
     "cell_type": "code",
     "collapsed": false,
     "input": [
      "def estimated_parameters(N, n):\n",
      "    p = n / N\n",
      "    sigma = math.sqrt(p* (1 - p) / N)\n",
      "    return p, sigma\n",
      "\n",
      "def a_b_test_statistic(N_A, n_A, N_B, n_B):\n",
      "    p_A, sigma_A = estimated_parameters(N_A, n_A)\n",
      "    p_B, sigma_B = estimated_parameters(N_B, n_B)\n",
      "    return (p_B - p_A) / math.sqrt(sigma_A**2 + sigma_B**2)\n",
      "\n",
      "z = a_b_test_statistic(1000, 200, 1000, 180)\n",
      "print z"
     ],
     "language": "python",
     "metadata": {},
     "outputs": [
      {
       "output_type": "stream",
       "stream": "stdout",
       "text": [
        "-1.1403464899\n"
       ]
      }
     ],
     "prompt_number": 35
    },
    {
     "cell_type": "code",
     "collapsed": true,
     "input": [
      "two_sided_p_value(z)"
     ],
     "language": "python",
     "metadata": {},
     "outputs": [
      {
       "metadata": {},
       "output_type": "pyout",
       "prompt_number": 36,
       "text": [
        "0.254141976542236"
       ]
      }
     ],
     "prompt_number": 36
    },
    {
     "cell_type": "code",
     "collapsed": false,
     "input": [
      "z = a_b_test_statistic(1000,200,1000,150)\n",
      "two_sided_p_value(z)"
     ],
     "language": "python",
     "metadata": {},
     "outputs": [
      {
       "metadata": {},
       "output_type": "pyout",
       "prompt_number": 37,
       "text": [
        "0.003189699706216853"
       ]
      }
     ],
     "prompt_number": 37
    },
    {
     "cell_type": "code",
     "collapsed": false,
     "input": [
      "def B(alpha, beta):\n",
      "    \"\"\"a normalizing constant so that the totla probability is 1\"\"\"\n",
      "    return math.gamma(alpha) * math.gamma(beta) / math.gamma(alpha + beta)\n",
      "\n",
      "def beta_pdf(x, alpha, beta):\n",
      "    if x < 0 or x > 1:\n",
      "         return 0\n",
      "    return x ** (alpha - 1) * (1 - x) ** (beta - 1) / B(alpha, beta)\n",
      "\n"
     ],
     "language": "python",
     "metadata": {},
     "outputs": [],
     "prompt_number": 40
    }
   ],
   "metadata": {}
  }
 ]
}