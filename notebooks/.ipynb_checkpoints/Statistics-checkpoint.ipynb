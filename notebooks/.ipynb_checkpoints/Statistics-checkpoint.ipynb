{
 "metadata": {
  "name": "",
  "signature": "sha256:f3212db774b1d402b62584200740c02eda15ad4e70ba4bfa78cbb3468fbffe1c"
 },
 "nbformat": 3,
 "nbformat_minor": 0,
 "worksheets": [
  {
   "cells": [
    {
     "cell_type": "heading",
     "level": 3,
     "metadata": {},
     "source": [
      "Let's use Statistics to describe our data"
     ]
    },
    {
     "cell_type": "code",
     "collapsed": false,
     "input": [
      "from __future__ import division\n",
      "from collections import Counter\n",
      "import math\n",
      "from linear_algebra import sum_of_squares, dot\n",
      "import matplotlib.pyplot as plt\n",
      "import seaborn\n",
      "%matplotlib inline\n"
     ],
     "language": "python",
     "metadata": {},
     "outputs": [],
     "prompt_number": 41
    },
    {
     "cell_type": "code",
     "collapsed": false,
     "input": [
      "num_friends = [100,49,41,40,25,21,21,19,19,18,18,16,15,15,15,15,14,14,13,13,13,13,12,12,11,10,10,10,10,10,10,10,10,10,10,10,10,10,10,10,9,9,9,9,9,9,9,9,9,9,9,9,9,9,9,9,9,9,8,8,8,8,8,8,8,8,8,8,8,8,8,7,7,7,7,7,7,7,7,7,7,7,7,7,7,7,6,6,6,6,6,6,6,6,6,6,6,6,6,6,6,6,6,6,6,6,6,6,5,5,5,5,5,5,5,5,5,5,5,5,5,5,5,5,5,4,4,4,4,4,4,4,4,4,4,4,4,4,4,4,4,4,4,4,4,3,3,3,3,3,3,3,3,3,3,3,3,3,3,3,3,3,3,3,3,2,2,2,2,2,2,2,2,2,2,2,2,2,2,2,2,2,1,1,1,1,1,1,1,1,1,1,1,1,1,1,1,1,1,1,1,1,1,1]\n",
      "daily_minutes = [1,68.77,51.25,52.08,38.36,44.54,57.13,51.4,41.42,31.22,34.76,54.01,38.79,47.59,49.1,27.66,41.03,36.73,48.65,28.12,46.62,35.57,32.98,35,26.07,23.77,39.73,40.57,31.65,31.21,36.32,20.45,21.93,26.02,27.34,23.49,46.94,30.5,33.8,24.23,21.4,27.94,32.24,40.57,25.07,19.42,22.39,18.42,46.96,23.72,26.41,26.97,36.76,40.32,35.02,29.47,30.2,31,38.11,38.18,36.31,21.03,30.86,36.07,28.66,29.08,37.28,15.28,24.17,22.31,30.17,25.53,19.85,35.37,44.6,17.23,13.47,26.33,35.02,32.09,24.81,19.33,28.77,24.26,31.98,25.73,24.86,16.28,34.51,15.23,39.72,40.8,26.06,35.76,34.76,16.13,44.04,18.03,19.65,32.62,35.59,39.43,14.18,35.24,40.13,41.82,35.45,36.07,43.67,24.61,20.9,21.9,18.79,27.61,27.21,26.61,29.77,20.59,27.53,13.82,33.2,25,33.1,36.65,18.63,14.87,22.2,36.81,25.53,24.62,26.25,18.21,28.08,19.42,29.79,32.8,35.99,28.32,27.79,35.88,29.06,36.28,14.1,36.63,37.49,26.9,18.58,38.48,24.48,18.95,33.55,14.24,29.04,32.51,25.63,22.22,19,32.73,15.16,13.9,27.2,32.01,29.27,33,13.74,20.42,27.32,18.23,35.35,28.48,9.08,24.62,20.12,35.26,19.92,31.02,16.49,12.16,30.7,31.22,34.65,13.13,27.51,33.2,31.57,14.1,33.42,17.44,10.12,24.42,9.82,23.39,30.93,15.03,21.67,31.09,33.29,22.61,26.89,23.48,8.38,27.81,32.35,23.84]\n"
     ],
     "language": "python",
     "metadata": {},
     "outputs": [],
     "prompt_number": 43
    },
    {
     "cell_type": "code",
     "collapsed": false,
     "input": [
      "friend_counts = Counter(num_friends)\n",
      "\n",
      "#let's set our axes for the x and y axes\n",
      "xs = range(101) #we know the highest number in the list is 100\n",
      "ys = [friend_counts[x] for x in xs] #height is num of friends\n",
      "\n",
      "plt.bar(xs, ys)\n",
      "plt.axis([0, 101, 0, 25])\n",
      "plt.title(\"Histogram of Friend Counts\")\n",
      "plt.xlabel(\"#of Friends\")\n",
      "plt.ylabel(\"#of People\")\n",
      "\n",
      "plt.show()\n"
     ],
     "language": "python",
     "metadata": {},
     "outputs": [
      {
       "metadata": {},
       "output_type": "display_data",
       "png": "[encoded data removed]",
       "text": [
        "<matplotlib.figure.Figure at 0x1113ae690>"
       ]
      }
     ],
     "prompt_number": 46
    },
    {
     "cell_type": "heading",
     "level": 4,
     "metadata": {},
     "source": [
      "lets see how many data points there are in our list"
     ]
    },
    {
     "cell_type": "code",
     "collapsed": false,
     "input": [
      "num_points = len(num_friends)\n",
      "largest_value = max(num_friends)\n",
      "smallest_value = min(num_friends)\n",
      "sorted_values = sorted(num_friends)\n",
      "smallest_value = sorted_values[0]\n",
      "second_smallest_value = sorted_values[1]\n",
      "second_largest_value = sorted_values[-2]\n",
      "\n",
      "print \"Number of data points is %d\" % (num_points)\n",
      "print \"Most number of friends is %d\" % (largest_value)\n",
      "print \"Fewest friends is %d\" % (smallest_value)\n",
      "print \"Second Fewest friends is %d\" %(second_smallest_value)\n",
      "print \"Second most friends is %d\" % (second_largest_value)"
     ],
     "language": "python",
     "metadata": {},
     "outputs": [
      {
       "output_type": "stream",
       "stream": "stdout",
       "text": [
        "Number of data points is 204\n",
        "Most number of friends is 100\n",
        "Fewest friends is 1\n",
        "Second Fewest friends is 1\n",
        "Second most friends is 49\n"
       ]
      }
     ],
     "prompt_number": 22
    },
    {
     "cell_type": "heading",
     "level": 4,
     "metadata": {},
     "source": [
      "Central tendency is one way to summarize our data but there are many ways to describe a central tendency"
     ]
    },
    {
     "cell_type": "code",
     "collapsed": false,
     "input": [
      "def mean(x):\n",
      "    return sum(x) / len(x)\n",
      "\n",
      "mean(num_friends)"
     ],
     "language": "python",
     "metadata": {},
     "outputs": [
      {
       "metadata": {},
       "output_type": "pyout",
       "prompt_number": 23,
       "text": [
        "7.333333333333333"
       ]
      }
     ],
     "prompt_number": 23
    },
    {
     "cell_type": "code",
     "collapsed": false,
     "input": [
      "def median(v):\n",
      "    \"\"\"finds the middle-most value of v\"\"\"\n",
      "    n = len(v)\n",
      "    sorted_v = sorted(v) #this sorts the list\n",
      "    midpoint = n // 2 #this gives us an index of the sorted list\n",
      "    \n",
      "    if n%2 == 1:\n",
      "        #if odd, return the middle value\n",
      "        return sorted_v[midpoint]\n",
      "    \n",
      "    else: \n",
      "        #if even we need to average the two middle values\n",
      "        lo = midpoint - 1\n",
      "        hi = midpoint \n",
      "        \n",
      "        return (sorted_v[lo] + sorted_v[hi]) / 2 \n",
      "    \n",
      "median(num_friends)"
     ],
     "language": "python",
     "metadata": {},
     "outputs": [
      {
       "metadata": {},
       "output_type": "pyout",
       "prompt_number": 24,
       "text": [
        "6.0"
       ]
      }
     ],
     "prompt_number": 24
    },
    {
     "cell_type": "code",
     "collapsed": false,
     "input": [
      "#median is a generalization of quantile\n",
      "\n",
      "def quantile(x, p):\n",
      "    \"\"\"returns the p-th percentile value in x\"\"\"\n",
      "    \n",
      "    p_index = int(p * len(x))\n",
      "    \n",
      "    return sorted(x)[p_index]\n",
      "\n",
      "quantile(num_friends, 0.10)\n",
      "quantile(num_friends, 0.25)\n",
      "quantile(num_friends, 0.50)\n",
      "quantile(num_friends, 0.75)\n",
      "quantile(num_friends, 0.90)\n"
     ],
     "language": "python",
     "metadata": {},
     "outputs": [
      {
       "metadata": {},
       "output_type": "pyout",
       "prompt_number": 25,
       "text": [
        "13"
       ]
      }
     ],
     "prompt_number": 25
    },
    {
     "cell_type": "code",
     "collapsed": false,
     "input": [
      "#mode is another indicator of central tendency\n",
      "#mode may have more than one mode. There are bimodal distributions\n",
      "\n",
      "def mode(x):\n",
      "    \n",
      "    counts = Counter(x)\n",
      "    max_count = max(counts.values())\n",
      "    \n",
      "    #lets find a max and test other values against it\n",
      "    #the value that comes up the most is our mode\n",
      "    return [x_i for x_i, count in counts.iteritems() if count == max_count]\n",
      "\n",
      "mode(num_friends) #this is bimodal\n",
      "    "
     ],
     "language": "python",
     "metadata": {},
     "outputs": [
      {
       "metadata": {},
       "output_type": "pyout",
       "prompt_number": 27,
       "text": [
        "[1, 6]"
       ]
      }
     ],
     "prompt_number": 27
    },
    {
     "cell_type": "heading",
     "level": 4,
     "metadata": {},
     "source": [
      "As opposted to central tendency, Dispersion speaks of out spread out the data is"
     ]
    },
    {
     "cell_type": "code",
     "collapsed": false,
     "input": [
      "#range is a good way to start this discussion\n",
      "\n",
      "def data_range(x):\n",
      "    return max(x) - min(x)\n",
      "\n",
      "data_range(num_friends) #max 100 - min 1"
     ],
     "language": "python",
     "metadata": {},
     "outputs": [
      {
       "metadata": {},
       "output_type": "pyout",
       "prompt_number": 28,
       "text": [
        "99"
       ]
      }
     ],
     "prompt_number": 28
    },
    {
     "cell_type": "code",
     "collapsed": false,
     "input": [
      "def de_mean(x):\n",
      "    \"\"\"translate x by subtracting its mean (resulting set has mean 0)\"\"\"\n",
      "    x_bar = mean(x)\n",
      "    return [x_i - x_bar for x_i in x]\n",
      "\n",
      "def variance(x):\n",
      "    \n",
      "    n = len(x)\n",
      "    deviations = de_mean(x)\n",
      "    return sum_of_squares(deviations) / (n-1) #we are estimating so we take n-1 instead of n \n",
      "                                              #we would underestimate variance otherwise\n",
      "    \n",
      "variance(num_friends)"
     ],
     "language": "python",
     "metadata": {},
     "outputs": [
      {
       "metadata": {},
       "output_type": "pyout",
       "prompt_number": 35,
       "text": [
        "81.54351395730716"
       ]
      }
     ],
     "prompt_number": 35
    },
    {
     "cell_type": "code",
     "collapsed": false,
     "input": [
      "#variance is in units squared. To make sense of our variance we take the sq root\n",
      "def standard_deviation(x):\n",
      "    return math.sqrt(variance(x))\n",
      "\n",
      "stand_dev(num_friends)"
     ],
     "language": "python",
     "metadata": {},
     "outputs": [
      {
       "metadata": {},
       "output_type": "pyout",
       "prompt_number": 36,
       "text": [
        "9.03014473623248"
       ]
      }
     ],
     "prompt_number": 36
    },
    {
     "cell_type": "code",
     "collapsed": false,
     "input": [
      "#Variance exposes us to the influence of outliers, similar to mean\n",
      "# we can take a quantile to get more representative data of where things sit in the middle\n",
      "\n",
      "def interquartile_range(x):\n",
      "    return quantile(x, 0.75) - quantile(x, 0.25)\n",
      "\n",
      "interquartile_range(num_friends)"
     ],
     "language": "python",
     "metadata": {},
     "outputs": [
      {
       "metadata": {},
       "output_type": "pyout",
       "prompt_number": 40,
       "text": [
        "6"
       ]
      }
     ],
     "prompt_number": 40
    },
    {
     "cell_type": "code",
     "collapsed": false,
     "input": [
      "#covariance is the paired analogue of variance\n",
      "#it measures how to variables differ together from their mean\n",
      "\n",
      "def covariance(x, y):\n",
      "    n = len(x)\n",
      "    return dot(de_mean(x), de_mean(y)) / (n-1)\n",
      "\n",
      "covariance(num_friends, daily_minutes)"
     ],
     "language": "python",
     "metadata": {},
     "outputs": [
      {
       "metadata": {},
       "output_type": "pyout",
       "prompt_number": 44,
       "text": [
        "22.425435139573064"
       ]
      }
     ],
     "prompt_number": 44
    },
    {
     "cell_type": "code",
     "collapsed": false,
     "input": [
      "#what does correlation look like\n",
      "\n",
      "def correlation(x, y):\n",
      "    \n",
      "    stdev_x = standard_deviation(x)\n",
      "    stdev_y = standard_deviation(y)\n",
      "    \n",
      "    if stdev_x > 0 and stdev_y > 0:\n",
      "        return covariance(x,y) / stdev_y / stdev_x\n",
      "    else:\n",
      "        return 0\n",
      "    \n",
      "\n",
      "correlation(num_friends, daily_minutes)\n",
      "\n",
      "\n"
     ],
     "language": "python",
     "metadata": {},
     "outputs": [
      {
       "metadata": {},
       "output_type": "pyout",
       "prompt_number": 49,
       "text": [
        "0.24736957366478213"
       ]
      }
     ],
     "prompt_number": 49
    },
    {
     "cell_type": "code",
     "collapsed": false,
     "input": [
      "#lets remove our outlier\n",
      "outlier = num_friends.index(100) # we know there is someone with one hundred friends\n",
      "\n",
      "num_friends_sans_outlier = [x for i, x in enumerate(num_friends) if i != outlier]\n",
      "daily_minutes_sans_outlier = [x for i, x in enumerate(daily_minutes) if i != outlier]\n",
      "\n",
      "correlation(num_friends_sans_outlier, daily_minutes_sans_outlier)\n"
     ],
     "language": "python",
     "metadata": {},
     "outputs": [
      {
       "metadata": {},
       "output_type": "pyout",
       "prompt_number": 51,
       "text": [
        "0.5736792115665573"
       ]
      }
     ],
     "prompt_number": 51
    },
    {
     "cell_type": "code",
     "collapsed": false,
     "input": [],
     "language": "python",
     "metadata": {},
     "outputs": []
    }
   ],
   "metadata": {}
  }
 ]
}