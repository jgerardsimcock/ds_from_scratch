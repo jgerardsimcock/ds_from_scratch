{
 "metadata": {
  "name": "",
  "signature": "sha256:377b5e314542fedc6453ff977edce1fed936eaafbdd6d4c8a82d1f0a67934137"
 },
 "nbformat": 3,
 "nbformat_minor": 0,
 "worksheets": [
  {
   "cells": [
    {
     "cell_type": "heading",
     "level": 4,
     "metadata": {},
     "source": [
      "Lets do some vector operations"
     ]
    },
    {
     "cell_type": "code",
     "collapsed": false,
     "input": [
      "#what if we wanted to add two different elements from two different lists?\n",
      "def add_vector_components(v, w):\n",
      "    \"\"\"add corresponding elements in vectors(lists)\"\"\"\n",
      "    return [v_i + w_i for v_i, w_i in zip(v,w)]\n",
      "\n",
      "def subtract_vector_components(v, w):\n",
      "    \"\"\"subtract corresponding elements in vectors(lists)\"\"\"\n",
      "    return [ v_i - w_i for v_i, w_i in zip(v,w)]\n",
      "\n",
      "#What if we want to run a reduce function where we collapse/sum all the values of each component in a list of vectors to a single vector\n",
      "\n",
      "def vector_sum(vectors):\n",
      "    \"\"\"sums all corresponding elements\"\"\"\n",
      "    result = vectors[0] #use this as our beginning position\n",
      "    for vector in vectors[1:]:\n",
      "        result = add_vector_components(result, vector) #go through each vector in the list and sum their corresponding components\n",
      "    return result\n",
      "\n",
      "#we can also just call a reduce function\n",
      "\n",
      "def vector_sum_reduce(vectors):\n",
      "    return reduce(add_vector_components, vectors) # reduce function applies whichever function we call to each component in the vector\n",
      "\n",
      "\n",
      "#what if we want to scale our vector? We need to multiply each component by some value.\n",
      "\n",
      "def scalar_multiply(scalar, vector):\n",
      "    return [scalar * vector_i for vector_i in vector]\n",
      "\n",
      "\n",
      "#what if we want to get a component wise means for a list of same-sized vectors\n",
      "\n",
      "def vector_mean(vectors):\n",
      "    \"\"\"compute the vector whose ith element is the mean of the ith elements of the input vectors\"\"\"\n",
      "    \n",
      "    #lets get our denominator\n",
      "    n = len(vectors)\n",
      "    #multiply each by 1/n to get the mean of the vector\n",
      "    return scalar_multiply(1/n, vector_sum_reduce(vectors))\n",
      "\n",
      "\n",
      "\n",
      "    \n",
      "    "
     ],
     "language": "python",
     "metadata": {},
     "outputs": []
    }
   ],
   "metadata": {}
  }
 ]
}